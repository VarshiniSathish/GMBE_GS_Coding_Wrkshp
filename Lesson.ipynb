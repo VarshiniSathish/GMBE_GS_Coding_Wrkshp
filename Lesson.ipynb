{
 "cells": [
  {
   "cell_type": "markdown",
   "id": "c191d217-2de3-49cd-805e-183eca1a870c",
   "metadata": {},
   "source": [
    "# <span style= \"color: #1D3388\"> What is Python?\n",
    "### <font size = 3> Python is a programming language  <span style= \"color: red\"> **IDK FILL IN THE REST!!!**\n",
    "<img src=https://www.98thpercentile.com/hubfs/What%20is%20python%20used%20for.png style=\"width: 600px;\"/>"
   ]
  },
  {
   "cell_type": "markdown",
   "id": "47649243-7400-4ac7-bd45-73db26b4073f",
   "metadata": {},
   "source": [
    "## <font size = 6> <span style= \"color: #1D3388\">Variables\n",
    "<font size = 3> If you are working with any sort of data, your computer needs a way to store that information. We store this information in a _variable_, similar to how you would in math! We will cover 4 major variables today: int, float, boolean, and str. \n",
    "1. <span style= \"color: red\"> **int**: <span style= \"color: black\"> Holds any whole number. In other words, holds an (int)eger\n",
    "    - Examples: 3, 195, -4, -1358\n",
    "2. <span style= \"color: red\"> **float**: <span style= \"color: black\"> Holds any decimal. \n",
    "    - Examples: 3.14, 0.195, -4.976, -1358\n",
    "3. <span style= \"color: red\"> **boolean**: <span style= \"color: black\"> Holds either True or False. \n",
    "4. <span style= \"color: red\"> **string**: <span style= \"color: black\"> Holds words/single letters. They are represented with single or double quotes around the string \n",
    "    - Examples: \"Hello\", 'I love Python'\n",
    "    \n",
    "<font size = 3> Now that we inderstand what variables are, let's learn how to use variables to code! We will assign values to variables and plug them into expressions - this is called _variable assignment_.  \n",
    "There are 3 steps to assigning a value to a variable:  \n",
    "<font size = 3>\n",
    "1. The **name** of the variable  \n",
    "_you can call your variable anything you'd like, but try to be descriptive for good coding practice_\n",
    "    - Bad examples: x = 21, y = 'Varshini'\n",
    "    - Good examples: my_age = 21, my_name = 'Varshini'\n",
    "2. The **assignment operator** (an = sign)  \n",
    "3. The **value** you want to store  \n",
    "    \n",
    "<font size = 3> Check out these examples:  \n",
    "<img src=variables.png alt=\"Drawing\" style=\"width: 800px;\"/>\n",
    "    \n",
    "    \n",
    "<font size = 3> However, not all variable names are valid. Your variable name **cannot** _begin_ with a number or match one of Python's keywords  \n",
    "<img src=python_keywords.png alt=\"Drawing\" style=\"width: 500px;\"/>  \n",
    "\n",
    "<font size = 3>    \n",
    "<span style= \"color: #3ECC2D\"> **Try messing around with variables names in a new cell. Are there any other restrictions for a variable name?**  \n",
    "    \n",
    "<span style= \"color: black\"> Let's now introduce a cool way to have our computer talk to us! To do this, we will use one of Python's built in functions: print(). print() allows the computer to display text to our screens. Here are some examples:  \n",
    "<img src=print_examples.png alt=\"Drawing\" style=\"width: 450px;\"/>  \n",
    "    \n",
    "    \n",
    "<font size = 3.5> <span style= \"color: #F79628\"> **Activity 1: print \"Hello World\" to the console**"
   ]
  },
  {
   "cell_type": "markdown",
   "id": "3accf625-5bf5-463b-9c27-9fef3601a289",
   "metadata": {},
   "source": [
    "## <font size = 6> <span style= \"color: #1D3388\">Functions\n",
    "<font size = 3> Functions are a way to organize your code. They are \"called\" by another snippet of code. We have already seen an example of a function with the print() statement. This is one of Python's built in functions, so there is nothing else we need to do except use it like we have been. However, if we want to write our own function, there are 4 steps to declaring a function:  \n",
    "<font size = 2.5>\n",
    "1. The <span style= \"color: red\"> **keyword (def)** <span style= \"color: black\">: \"def\" tells the computer that you are going to write a function\n",
    "2. The <span style= \"color: red\"> **function name** <span style= \"color: black\">: this is how another snippet of code accesses the function  \n",
    "3. The <span style= \"color: red\"> **parameter(s)** <span style= \"color: black\">: data you can pass to be used in the function  \n",
    "4. The <span style= \"color: red\"> **function code** <span style= \"color: black\">: this is the body of the function and contains the actual code/logic  \n",
    "    \n",
    "<font size = 3>    \n",
    "Here's a skeleton of a function:  <br>\n",
    "<img src=function_skeleton.png alt=\"Drawing\" style=\"width: 600px;\"/>   \n",
    "\n",
    "<font size = 3> <span style= \"color: #3ECC2D\"> **:) Don't worry if this seems confusing!**  \n",
    "    &nbsp;  \n",
    "<font size = 3> <span style= \"color: black\"> Lets walk through a real example and how we actually use a function. Take a look at this function that takes in your name as a parameter and outputs a greeting.  \n",
    "<img src= hello_function.png alt=\"Drawing\" style=\"width: 600px;\"/>  \n",
    "\n",
    "We can also pass in a variable as the parameter to a function. Using the same function hello(), we can store our function parameter in a variable which I called \"GS\". Notice that since GS is a string, we can pass it in to our hello() function  \n",
    "<img src= hello_function2.png alt=\"Drawing\" style=\"width: 600px;\"/> \n",
    "    \n"
   ]
  },
  {
   "cell_type": "markdown",
   "id": "d10fb533-3b9b-423e-b39f-5ecf28c19709",
   "metadata": {},
   "source": [
    "## <font size = 6> <span style= \"color: #1D3388\">The Pandas Library  \n",
    "<font size = 3> Pandas is a popular **external library** in Python. External libraries are niche features written by third-party developers (so thank you to those super smart people!). These libraries provide a  way for programmers to reuse existing code in their own programs to perform common operations.  \n",
    "**Pandas** is a powerful tool that is particularly useful for analyzing and manipulating raw data\n"
   ]
  },
  {
   "cell_type": "code",
   "execution_count": null,
   "id": "6e3c5587-7200-4a1f-98da-2965662e91d2",
   "metadata": {},
   "outputs": [],
   "source": []
  },
  {
   "cell_type": "code",
   "execution_count": null,
   "id": "f3734b9c-1485-41dd-8ca6-624c0cfb7c78",
   "metadata": {},
   "outputs": [],
   "source": []
  },
  {
   "cell_type": "markdown",
   "id": "ba93487f-faa8-4245-a31b-4c185e46fcb2",
   "metadata": {},
   "source": [
    "## Random- remove later"
   ]
  },
  {
   "cell_type": "code",
   "execution_count": 14,
   "id": "099a028c-f663-473b-8e23-77707492daed",
   "metadata": {},
   "outputs": [],
   "source": [
    "! git config --global user.name \"VarshiniSathish\"\n",
    "! git config --global user.email \"varshini.sathish@gmail.com\""
   ]
  },
  {
   "cell_type": "code",
   "execution_count": 15,
   "id": "79f8d72a-b9b9-4aa1-8b4c-07f17f0e1a8c",
   "metadata": {},
   "outputs": [
    {
     "name": "stdout",
     "output_type": "stream",
     "text": [
      "fatal: destination path 'GMBE_GS_Coding_Wrkshp' already exists and is not an empty directory.\n"
     ]
    }
   ],
   "source": [
    "! git clone https://github.com/VarshiniSathish/GMBE_GS_Coding_Wrkshp.git"
   ]
  },
  {
   "cell_type": "code",
   "execution_count": 16,
   "id": "154d0124-5113-433b-b78a-2ce4b2931f73",
   "metadata": {},
   "outputs": [],
   "source": [
    "! cp /home/jovyan/Lesson.ipynb /home/jovyan/GMBE_GS_Coding_Wrkshp"
   ]
  },
  {
   "cell_type": "code",
   "execution_count": 17,
   "id": "ee028139-c499-4afa-88bd-0a6e81c3519d",
   "metadata": {},
   "outputs": [],
   "source": [
    "! git add Lesson.ipynb"
   ]
  },
  {
   "cell_type": "code",
   "execution_count": 18,
   "id": "1c56af9e-7259-48c1-b1f2-426ec967db48",
   "metadata": {},
   "outputs": [
    {
     "name": "stdout",
     "output_type": "stream",
     "text": [
      "[main 089feed] version 1- added variables section\n",
      " 1 file changed, 360 insertions(+)\n",
      " create mode 100644 Lesson.ipynb\n"
     ]
    }
   ],
   "source": [
    "! git commit -m \"version 1- added variables section\""
   ]
  },
  {
   "cell_type": "code",
   "execution_count": 19,
   "id": "e396ab71-1f95-47da-b54a-3c1f8164157d",
   "metadata": {},
   "outputs": [
    {
     "name": "stdout",
     "output_type": "stream",
     "text": [
      "Username for 'https://github.com': ^C\n"
     ]
    }
   ],
   "source": [
    "!git push"
   ]
  },
  {
   "cell_type": "code",
   "execution_count": 1,
   "id": "04da3189-37bd-431f-81e6-ed3ce7d457e7",
   "metadata": {
    "collapsed": true,
    "jupyter": {
     "outputs_hidden": true
    },
    "tags": []
   },
   "outputs": [
    {
     "name": "stdout",
     "output_type": "stream",
     "text": [
      "Collecting jupyterthemes\n",
      "  Downloading jupyterthemes-0.20.0-py2.py3-none-any.whl (7.0 MB)\n",
      "\u001b[2K     \u001b[90m━━━━━━━━━━━━━━━━━━━━━━━━━━━━━━━━━━━━━━━━\u001b[0m \u001b[32m7.0/7.0 MB\u001b[0m \u001b[31m50.7 MB/s\u001b[0m eta \u001b[36m0:00:00\u001b[0m00:01\u001b[0m00:01\u001b[0m\n",
      "\u001b[?25hCollecting matplotlib>=1.4.3\n",
      "  Downloading matplotlib-3.5.3-cp37-cp37m-manylinux_2_5_x86_64.manylinux1_x86_64.whl (11.2 MB)\n",
      "\u001b[2K     \u001b[90m━━━━━━━━━━━━━━━━━━━━━━━━━━━━━━━━━━━━━━━━\u001b[0m \u001b[32m11.2/11.2 MB\u001b[0m \u001b[31m79.2 MB/s\u001b[0m eta \u001b[36m0:00:00\u001b[0m00:01\u001b[0m00:01\u001b[0m\n",
      "\u001b[?25hRequirement already satisfied: jupyter-core in /srv/conda/envs/notebook/lib/python3.7/site-packages (from jupyterthemes) (4.11.1)\n",
      "Requirement already satisfied: ipython>=5.4.1 in /srv/conda/envs/notebook/lib/python3.7/site-packages (from jupyterthemes) (7.33.0)\n",
      "Requirement already satisfied: notebook>=5.6.0 in /srv/conda/envs/notebook/lib/python3.7/site-packages (from jupyterthemes) (6.4.12)\n",
      "Collecting lesscpy>=0.11.2\n",
      "  Downloading lesscpy-0.15.1-py2.py3-none-any.whl (46 kB)\n",
      "\u001b[2K     \u001b[90m━━━━━━━━━━━━━━━━━━━━━━━━━━━━━━━━━━━━━━━━\u001b[0m \u001b[32m46.7/46.7 kB\u001b[0m \u001b[31m8.7 MB/s\u001b[0m eta \u001b[36m0:00:00\u001b[0m\n",
      "\u001b[?25hRequirement already satisfied: backcall in /srv/conda/envs/notebook/lib/python3.7/site-packages (from ipython>=5.4.1->jupyterthemes) (0.2.0)\n",
      "Requirement already satisfied: traitlets>=4.2 in /srv/conda/envs/notebook/lib/python3.7/site-packages (from ipython>=5.4.1->jupyterthemes) (5.9.0)\n",
      "Requirement already satisfied: pygments in /srv/conda/envs/notebook/lib/python3.7/site-packages (from ipython>=5.4.1->jupyterthemes) (2.14.0)\n",
      "Requirement already satisfied: pexpect>4.3 in /srv/conda/envs/notebook/lib/python3.7/site-packages (from ipython>=5.4.1->jupyterthemes) (4.8.0)\n",
      "Requirement already satisfied: jedi>=0.16 in /srv/conda/envs/notebook/lib/python3.7/site-packages (from ipython>=5.4.1->jupyterthemes) (0.18.2)\n",
      "Requirement already satisfied: matplotlib-inline in /srv/conda/envs/notebook/lib/python3.7/site-packages (from ipython>=5.4.1->jupyterthemes) (0.1.6)\n",
      "Requirement already satisfied: pickleshare in /srv/conda/envs/notebook/lib/python3.7/site-packages (from ipython>=5.4.1->jupyterthemes) (0.7.5)\n",
      "Requirement already satisfied: decorator in /srv/conda/envs/notebook/lib/python3.7/site-packages (from ipython>=5.4.1->jupyterthemes) (5.1.1)\n",
      "Requirement already satisfied: setuptools>=18.5 in /srv/conda/envs/notebook/lib/python3.7/site-packages (from ipython>=5.4.1->jupyterthemes) (67.1.0)\n",
      "Requirement already satisfied: prompt-toolkit!=3.0.0,!=3.0.1,<3.1.0,>=2.0.0 in /srv/conda/envs/notebook/lib/python3.7/site-packages (from ipython>=5.4.1->jupyterthemes) (3.0.36)\n",
      "Collecting ply\n",
      "  Downloading ply-3.11-py2.py3-none-any.whl (49 kB)\n",
      "\u001b[2K     \u001b[90m━━━━━━━━━━━━━━━━━━━━━━━━━━━━━━━━━━━━━━━━\u001b[0m \u001b[32m49.6/49.6 kB\u001b[0m \u001b[31m9.9 MB/s\u001b[0m eta \u001b[36m0:00:00\u001b[0m\n",
      "\u001b[?25hCollecting numpy>=1.17\n",
      "  Downloading numpy-1.21.6-cp37-cp37m-manylinux_2_12_x86_64.manylinux2010_x86_64.whl (15.7 MB)\n",
      "\u001b[2K     \u001b[90m━━━━━━━━━━━━━━━━━━━━━━━━━━━━━━━━━━━━━━━━\u001b[0m \u001b[32m15.7/15.7 MB\u001b[0m \u001b[31m62.1 MB/s\u001b[0m eta \u001b[36m0:00:00\u001b[0m00:01\u001b[0m00:01\u001b[0m\n",
      "\u001b[?25hCollecting kiwisolver>=1.0.1\n",
      "  Downloading kiwisolver-1.4.4-cp37-cp37m-manylinux_2_5_x86_64.manylinux1_x86_64.whl (1.1 MB)\n",
      "\u001b[2K     \u001b[90m━━━━━━━━━━━━━━━━━━━━━━━━━━━━━━━━━━━━━━━━\u001b[0m \u001b[32m1.1/1.1 MB\u001b[0m \u001b[31m70.8 MB/s\u001b[0m eta \u001b[36m0:00:00\u001b[0m\n",
      "\u001b[?25hCollecting fonttools>=4.22.0\n",
      "  Downloading fonttools-4.38.0-py3-none-any.whl (965 kB)\n",
      "\u001b[2K     \u001b[90m━━━━━━━━━━━━━━━━━━━━━━━━━━━━━━━━━━━━━━\u001b[0m \u001b[32m965.4/965.4 kB\u001b[0m \u001b[31m61.1 MB/s\u001b[0m eta \u001b[36m0:00:00\u001b[0m\n",
      "\u001b[?25hCollecting cycler>=0.10\n",
      "  Downloading cycler-0.11.0-py3-none-any.whl (6.4 kB)\n",
      "Requirement already satisfied: packaging>=20.0 in /srv/conda/envs/notebook/lib/python3.7/site-packages (from matplotlib>=1.4.3->jupyterthemes) (23.0)\n",
      "Requirement already satisfied: python-dateutil>=2.7 in /srv/conda/envs/notebook/lib/python3.7/site-packages (from matplotlib>=1.4.3->jupyterthemes) (2.8.2)\n",
      "Collecting pillow>=6.2.0\n",
      "  Downloading Pillow-9.4.0-cp37-cp37m-manylinux_2_17_x86_64.manylinux2014_x86_64.whl (3.3 MB)\n",
      "\u001b[2K     \u001b[90m━━━━━━━━━━━━━━━━━━━━━━━━━━━━━━━━━━━━━━━━\u001b[0m \u001b[32m3.3/3.3 MB\u001b[0m \u001b[31m87.2 MB/s\u001b[0m eta \u001b[36m0:00:00\u001b[0m:00:01\u001b[0m\n",
      "\u001b[?25hCollecting pyparsing>=2.2.1\n",
      "  Downloading pyparsing-3.0.9-py3-none-any.whl (98 kB)\n",
      "\u001b[2K     \u001b[90m━━━━━━━━━━━━━━━━━━━━━━━━━━━━━━━━━━━━━━━━\u001b[0m \u001b[32m98.3/98.3 kB\u001b[0m \u001b[31m17.2 MB/s\u001b[0m eta \u001b[36m0:00:00\u001b[0m\n",
      "\u001b[?25hRequirement already satisfied: nbconvert>=5 in /srv/conda/envs/notebook/lib/python3.7/site-packages (from notebook>=5.6.0->jupyterthemes) (7.2.9)\n",
      "Requirement already satisfied: terminado>=0.8.3 in /srv/conda/envs/notebook/lib/python3.7/site-packages (from notebook>=5.6.0->jupyterthemes) (0.17.1)\n",
      "Requirement already satisfied: tornado>=6.1 in /srv/conda/envs/notebook/lib/python3.7/site-packages (from notebook>=5.6.0->jupyterthemes) (6.2)\n",
      "Requirement already satisfied: prometheus-client in /srv/conda/envs/notebook/lib/python3.7/site-packages (from notebook>=5.6.0->jupyterthemes) (0.16.0)\n",
      "Requirement already satisfied: Send2Trash>=1.8.0 in /srv/conda/envs/notebook/lib/python3.7/site-packages (from notebook>=5.6.0->jupyterthemes) (1.8.0)\n",
      "Requirement already satisfied: pyzmq>=17 in /srv/conda/envs/notebook/lib/python3.7/site-packages (from notebook>=5.6.0->jupyterthemes) (24.0.1)\n",
      "Requirement already satisfied: argon2-cffi in /srv/conda/envs/notebook/lib/python3.7/site-packages (from notebook>=5.6.0->jupyterthemes) (21.3.0)\n",
      "Requirement already satisfied: nest-asyncio>=1.5 in /srv/conda/envs/notebook/lib/python3.7/site-packages (from notebook>=5.6.0->jupyterthemes) (1.5.6)\n",
      "Requirement already satisfied: jinja2 in /srv/conda/envs/notebook/lib/python3.7/site-packages (from notebook>=5.6.0->jupyterthemes) (3.1.2)\n",
      "Requirement already satisfied: ipython-genutils in /srv/conda/envs/notebook/lib/python3.7/site-packages (from notebook>=5.6.0->jupyterthemes) (0.2.0)\n",
      "Requirement already satisfied: ipykernel in /srv/conda/envs/notebook/lib/python3.7/site-packages (from notebook>=5.6.0->jupyterthemes) (6.16.2)\n",
      "Requirement already satisfied: jupyter-client>=5.3.4 in /srv/conda/envs/notebook/lib/python3.7/site-packages (from notebook>=5.6.0->jupyterthemes) (7.4.9)\n",
      "Requirement already satisfied: nbformat in /srv/conda/envs/notebook/lib/python3.7/site-packages (from notebook>=5.6.0->jupyterthemes) (5.7.3)\n",
      "Requirement already satisfied: parso<0.9.0,>=0.8.0 in /srv/conda/envs/notebook/lib/python3.7/site-packages (from jedi>=0.16->ipython>=5.4.1->jupyterthemes) (0.8.3)\n",
      "Requirement already satisfied: entrypoints in /srv/conda/envs/notebook/lib/python3.7/site-packages (from jupyter-client>=5.3.4->notebook>=5.6.0->jupyterthemes) (0.4)\n",
      "Requirement already satisfied: typing-extensions in /srv/conda/envs/notebook/lib/python3.7/site-packages (from kiwisolver>=1.0.1->matplotlib>=1.4.3->jupyterthemes) (4.4.0)\n",
      "Requirement already satisfied: pandocfilters>=1.4.1 in /srv/conda/envs/notebook/lib/python3.7/site-packages (from nbconvert>=5->notebook>=5.6.0->jupyterthemes) (1.5.0)\n",
      "Requirement already satisfied: importlib-metadata>=3.6 in /srv/conda/envs/notebook/lib/python3.7/site-packages (from nbconvert>=5->notebook>=5.6.0->jupyterthemes) (4.11.4)\n",
      "Requirement already satisfied: defusedxml in /srv/conda/envs/notebook/lib/python3.7/site-packages (from nbconvert>=5->notebook>=5.6.0->jupyterthemes) (0.7.1)\n",
      "Requirement already satisfied: nbclient>=0.5.0 in /srv/conda/envs/notebook/lib/python3.7/site-packages (from nbconvert>=5->notebook>=5.6.0->jupyterthemes) (0.7.0)\n",
      "Requirement already satisfied: markupsafe>=2.0 in /srv/conda/envs/notebook/lib/python3.7/site-packages (from nbconvert>=5->notebook>=5.6.0->jupyterthemes) (2.1.1)\n",
      "Requirement already satisfied: mistune<3,>=2.0.3 in /srv/conda/envs/notebook/lib/python3.7/site-packages (from nbconvert>=5->notebook>=5.6.0->jupyterthemes) (2.0.4)\n",
      "Requirement already satisfied: jupyterlab-pygments in /srv/conda/envs/notebook/lib/python3.7/site-packages (from nbconvert>=5->notebook>=5.6.0->jupyterthemes) (0.2.2)\n",
      "Requirement already satisfied: bleach in /srv/conda/envs/notebook/lib/python3.7/site-packages (from nbconvert>=5->notebook>=5.6.0->jupyterthemes) (6.0.0)\n",
      "Requirement already satisfied: tinycss2 in /srv/conda/envs/notebook/lib/python3.7/site-packages (from nbconvert>=5->notebook>=5.6.0->jupyterthemes) (1.2.1)\n",
      "Requirement already satisfied: beautifulsoup4 in /srv/conda/envs/notebook/lib/python3.7/site-packages (from nbconvert>=5->notebook>=5.6.0->jupyterthemes) (4.11.2)\n",
      "Requirement already satisfied: fastjsonschema in /srv/conda/envs/notebook/lib/python3.7/site-packages (from nbformat->notebook>=5.6.0->jupyterthemes) (2.16.2)\n",
      "Requirement already satisfied: jsonschema>=2.6 in /srv/conda/envs/notebook/lib/python3.7/site-packages (from nbformat->notebook>=5.6.0->jupyterthemes) (4.17.3)\n",
      "Requirement already satisfied: ptyprocess>=0.5 in /srv/conda/envs/notebook/lib/python3.7/site-packages (from pexpect>4.3->ipython>=5.4.1->jupyterthemes) (0.7.0)\n",
      "Requirement already satisfied: wcwidth in /srv/conda/envs/notebook/lib/python3.7/site-packages (from prompt-toolkit!=3.0.0,!=3.0.1,<3.1.0,>=2.0.0->ipython>=5.4.1->jupyterthemes) (0.2.6)\n",
      "Requirement already satisfied: six>=1.5 in /srv/conda/envs/notebook/lib/python3.7/site-packages (from python-dateutil>=2.7->matplotlib>=1.4.3->jupyterthemes) (1.16.0)\n",
      "Requirement already satisfied: argon2-cffi-bindings in /srv/conda/envs/notebook/lib/python3.7/site-packages (from argon2-cffi->notebook>=5.6.0->jupyterthemes) (21.2.0)\n",
      "Requirement already satisfied: debugpy>=1.0 in /srv/conda/envs/notebook/lib/python3.7/site-packages (from ipykernel->notebook>=5.6.0->jupyterthemes) (1.6.3)\n",
      "Requirement already satisfied: psutil in /srv/conda/envs/notebook/lib/python3.7/site-packages (from ipykernel->notebook>=5.6.0->jupyterthemes) (5.9.3)\n",
      "Requirement already satisfied: zipp>=0.5 in /srv/conda/envs/notebook/lib/python3.7/site-packages (from importlib-metadata>=3.6->nbconvert>=5->notebook>=5.6.0->jupyterthemes) (3.12.0)\n",
      "Requirement already satisfied: pkgutil-resolve-name>=1.3.10 in /srv/conda/envs/notebook/lib/python3.7/site-packages (from jsonschema>=2.6->nbformat->notebook>=5.6.0->jupyterthemes) (1.3.10)\n",
      "Requirement already satisfied: pyrsistent!=0.17.0,!=0.17.1,!=0.17.2,>=0.14.0 in /srv/conda/envs/notebook/lib/python3.7/site-packages (from jsonschema>=2.6->nbformat->notebook>=5.6.0->jupyterthemes) (0.18.1)\n",
      "Requirement already satisfied: importlib-resources>=1.4.0 in /srv/conda/envs/notebook/lib/python3.7/site-packages (from jsonschema>=2.6->nbformat->notebook>=5.6.0->jupyterthemes) (5.10.2)\n",
      "Requirement already satisfied: attrs>=17.4.0 in /srv/conda/envs/notebook/lib/python3.7/site-packages (from jsonschema>=2.6->nbformat->notebook>=5.6.0->jupyterthemes) (22.2.0)\n",
      "Requirement already satisfied: cffi>=1.0.1 in /srv/conda/envs/notebook/lib/python3.7/site-packages (from argon2-cffi-bindings->argon2-cffi->notebook>=5.6.0->jupyterthemes) (1.15.1)\n",
      "Requirement already satisfied: soupsieve>1.2 in /srv/conda/envs/notebook/lib/python3.7/site-packages (from beautifulsoup4->nbconvert>=5->notebook>=5.6.0->jupyterthemes) (2.3.2.post1)\n",
      "Requirement already satisfied: webencodings in /srv/conda/envs/notebook/lib/python3.7/site-packages (from bleach->nbconvert>=5->notebook>=5.6.0->jupyterthemes) (0.5.1)\n",
      "Requirement already satisfied: pycparser in /srv/conda/envs/notebook/lib/python3.7/site-packages (from cffi>=1.0.1->argon2-cffi-bindings->argon2-cffi->notebook>=5.6.0->jupyterthemes) (2.21)\n",
      "Installing collected packages: ply, pyparsing, pillow, numpy, lesscpy, kiwisolver, fonttools, cycler, matplotlib, jupyterthemes\n",
      "Successfully installed cycler-0.11.0 fonttools-4.38.0 jupyterthemes-0.20.0 kiwisolver-1.4.4 lesscpy-0.15.1 matplotlib-3.5.3 numpy-1.21.6 pillow-9.4.0 ply-3.11 pyparsing-3.0.9\n",
      "Requirement already satisfied: jupyterthemes in /srv/conda/envs/notebook/lib/python3.7/site-packages (0.20.0)\n",
      "Requirement already satisfied: matplotlib>=1.4.3 in /srv/conda/envs/notebook/lib/python3.7/site-packages (from jupyterthemes) (3.5.3)\n",
      "Requirement already satisfied: jupyter-core in /srv/conda/envs/notebook/lib/python3.7/site-packages (from jupyterthemes) (4.11.1)\n",
      "Requirement already satisfied: notebook>=5.6.0 in /srv/conda/envs/notebook/lib/python3.7/site-packages (from jupyterthemes) (6.4.12)\n",
      "Requirement already satisfied: lesscpy>=0.11.2 in /srv/conda/envs/notebook/lib/python3.7/site-packages (from jupyterthemes) (0.15.1)\n",
      "Requirement already satisfied: ipython>=5.4.1 in /srv/conda/envs/notebook/lib/python3.7/site-packages (from jupyterthemes) (7.33.0)\n",
      "Requirement already satisfied: decorator in /srv/conda/envs/notebook/lib/python3.7/site-packages (from ipython>=5.4.1->jupyterthemes) (5.1.1)\n",
      "Requirement already satisfied: matplotlib-inline in /srv/conda/envs/notebook/lib/python3.7/site-packages (from ipython>=5.4.1->jupyterthemes) (0.1.6)\n",
      "Requirement already satisfied: setuptools>=18.5 in /srv/conda/envs/notebook/lib/python3.7/site-packages (from ipython>=5.4.1->jupyterthemes) (67.1.0)\n",
      "Requirement already satisfied: pickleshare in /srv/conda/envs/notebook/lib/python3.7/site-packages (from ipython>=5.4.1->jupyterthemes) (0.7.5)\n",
      "Requirement already satisfied: backcall in /srv/conda/envs/notebook/lib/python3.7/site-packages (from ipython>=5.4.1->jupyterthemes) (0.2.0)\n",
      "Requirement already satisfied: pygments in /srv/conda/envs/notebook/lib/python3.7/site-packages (from ipython>=5.4.1->jupyterthemes) (2.14.0)\n",
      "Requirement already satisfied: traitlets>=4.2 in /srv/conda/envs/notebook/lib/python3.7/site-packages (from ipython>=5.4.1->jupyterthemes) (5.9.0)\n",
      "Requirement already satisfied: pexpect>4.3 in /srv/conda/envs/notebook/lib/python3.7/site-packages (from ipython>=5.4.1->jupyterthemes) (4.8.0)\n",
      "Requirement already satisfied: prompt-toolkit!=3.0.0,!=3.0.1,<3.1.0,>=2.0.0 in /srv/conda/envs/notebook/lib/python3.7/site-packages (from ipython>=5.4.1->jupyterthemes) (3.0.36)\n",
      "Requirement already satisfied: jedi>=0.16 in /srv/conda/envs/notebook/lib/python3.7/site-packages (from ipython>=5.4.1->jupyterthemes) (0.18.2)\n",
      "Requirement already satisfied: ply in /srv/conda/envs/notebook/lib/python3.7/site-packages (from lesscpy>=0.11.2->jupyterthemes) (3.11)\n",
      "Requirement already satisfied: numpy>=1.17 in /srv/conda/envs/notebook/lib/python3.7/site-packages (from matplotlib>=1.4.3->jupyterthemes) (1.21.6)\n",
      "Requirement already satisfied: kiwisolver>=1.0.1 in /srv/conda/envs/notebook/lib/python3.7/site-packages (from matplotlib>=1.4.3->jupyterthemes) (1.4.4)\n",
      "Requirement already satisfied: python-dateutil>=2.7 in /srv/conda/envs/notebook/lib/python3.7/site-packages (from matplotlib>=1.4.3->jupyterthemes) (2.8.2)\n",
      "Requirement already satisfied: packaging>=20.0 in /srv/conda/envs/notebook/lib/python3.7/site-packages (from matplotlib>=1.4.3->jupyterthemes) (23.0)\n",
      "Requirement already satisfied: fonttools>=4.22.0 in /srv/conda/envs/notebook/lib/python3.7/site-packages (from matplotlib>=1.4.3->jupyterthemes) (4.38.0)\n",
      "Requirement already satisfied: cycler>=0.10 in /srv/conda/envs/notebook/lib/python3.7/site-packages (from matplotlib>=1.4.3->jupyterthemes) (0.11.0)\n",
      "Requirement already satisfied: pillow>=6.2.0 in /srv/conda/envs/notebook/lib/python3.7/site-packages (from matplotlib>=1.4.3->jupyterthemes) (9.4.0)\n",
      "Requirement already satisfied: pyparsing>=2.2.1 in /srv/conda/envs/notebook/lib/python3.7/site-packages (from matplotlib>=1.4.3->jupyterthemes) (3.0.9)\n",
      "Requirement already satisfied: ipykernel in /srv/conda/envs/notebook/lib/python3.7/site-packages (from notebook>=5.6.0->jupyterthemes) (6.16.2)\n",
      "Requirement already satisfied: argon2-cffi in /srv/conda/envs/notebook/lib/python3.7/site-packages (from notebook>=5.6.0->jupyterthemes) (21.3.0)\n",
      "Requirement already satisfied: nbconvert>=5 in /srv/conda/envs/notebook/lib/python3.7/site-packages (from notebook>=5.6.0->jupyterthemes) (7.2.9)\n",
      "Requirement already satisfied: jinja2 in /srv/conda/envs/notebook/lib/python3.7/site-packages (from notebook>=5.6.0->jupyterthemes) (3.1.2)\n",
      "Requirement already satisfied: nbformat in /srv/conda/envs/notebook/lib/python3.7/site-packages (from notebook>=5.6.0->jupyterthemes) (5.7.3)\n",
      "Requirement already satisfied: jupyter-client>=5.3.4 in /srv/conda/envs/notebook/lib/python3.7/site-packages (from notebook>=5.6.0->jupyterthemes) (7.4.9)\n",
      "Requirement already satisfied: tornado>=6.1 in /srv/conda/envs/notebook/lib/python3.7/site-packages (from notebook>=5.6.0->jupyterthemes) (6.2)\n",
      "Requirement already satisfied: pyzmq>=17 in /srv/conda/envs/notebook/lib/python3.7/site-packages (from notebook>=5.6.0->jupyterthemes) (24.0.1)\n",
      "Requirement already satisfied: nest-asyncio>=1.5 in /srv/conda/envs/notebook/lib/python3.7/site-packages (from notebook>=5.6.0->jupyterthemes) (1.5.6)\n",
      "Requirement already satisfied: terminado>=0.8.3 in /srv/conda/envs/notebook/lib/python3.7/site-packages (from notebook>=5.6.0->jupyterthemes) (0.17.1)\n",
      "Requirement already satisfied: ipython-genutils in /srv/conda/envs/notebook/lib/python3.7/site-packages (from notebook>=5.6.0->jupyterthemes) (0.2.0)\n",
      "Requirement already satisfied: Send2Trash>=1.8.0 in /srv/conda/envs/notebook/lib/python3.7/site-packages (from notebook>=5.6.0->jupyterthemes) (1.8.0)\n",
      "Requirement already satisfied: prometheus-client in /srv/conda/envs/notebook/lib/python3.7/site-packages (from notebook>=5.6.0->jupyterthemes) (0.16.0)\n",
      "Requirement already satisfied: parso<0.9.0,>=0.8.0 in /srv/conda/envs/notebook/lib/python3.7/site-packages (from jedi>=0.16->ipython>=5.4.1->jupyterthemes) (0.8.3)\n",
      "Requirement already satisfied: entrypoints in /srv/conda/envs/notebook/lib/python3.7/site-packages (from jupyter-client>=5.3.4->notebook>=5.6.0->jupyterthemes) (0.4)\n",
      "Requirement already satisfied: typing-extensions in /srv/conda/envs/notebook/lib/python3.7/site-packages (from kiwisolver>=1.0.1->matplotlib>=1.4.3->jupyterthemes) (4.4.0)\n",
      "Requirement already satisfied: importlib-metadata>=3.6 in /srv/conda/envs/notebook/lib/python3.7/site-packages (from nbconvert>=5->notebook>=5.6.0->jupyterthemes) (4.11.4)\n",
      "Requirement already satisfied: pandocfilters>=1.4.1 in /srv/conda/envs/notebook/lib/python3.7/site-packages (from nbconvert>=5->notebook>=5.6.0->jupyterthemes) (1.5.0)\n",
      "Requirement already satisfied: mistune<3,>=2.0.3 in /srv/conda/envs/notebook/lib/python3.7/site-packages (from nbconvert>=5->notebook>=5.6.0->jupyterthemes) (2.0.4)\n",
      "Requirement already satisfied: defusedxml in /srv/conda/envs/notebook/lib/python3.7/site-packages (from nbconvert>=5->notebook>=5.6.0->jupyterthemes) (0.7.1)\n",
      "Requirement already satisfied: beautifulsoup4 in /srv/conda/envs/notebook/lib/python3.7/site-packages (from nbconvert>=5->notebook>=5.6.0->jupyterthemes) (4.11.2)\n",
      "Requirement already satisfied: jupyterlab-pygments in /srv/conda/envs/notebook/lib/python3.7/site-packages (from nbconvert>=5->notebook>=5.6.0->jupyterthemes) (0.2.2)\n",
      "Requirement already satisfied: tinycss2 in /srv/conda/envs/notebook/lib/python3.7/site-packages (from nbconvert>=5->notebook>=5.6.0->jupyterthemes) (1.2.1)\n",
      "Requirement already satisfied: bleach in /srv/conda/envs/notebook/lib/python3.7/site-packages (from nbconvert>=5->notebook>=5.6.0->jupyterthemes) (6.0.0)\n",
      "Requirement already satisfied: markupsafe>=2.0 in /srv/conda/envs/notebook/lib/python3.7/site-packages (from nbconvert>=5->notebook>=5.6.0->jupyterthemes) (2.1.1)\n",
      "Requirement already satisfied: nbclient>=0.5.0 in /srv/conda/envs/notebook/lib/python3.7/site-packages (from nbconvert>=5->notebook>=5.6.0->jupyterthemes) (0.7.0)\n",
      "Requirement already satisfied: fastjsonschema in /srv/conda/envs/notebook/lib/python3.7/site-packages (from nbformat->notebook>=5.6.0->jupyterthemes) (2.16.2)\n",
      "Requirement already satisfied: jsonschema>=2.6 in /srv/conda/envs/notebook/lib/python3.7/site-packages (from nbformat->notebook>=5.6.0->jupyterthemes) (4.17.3)\n",
      "Requirement already satisfied: ptyprocess>=0.5 in /srv/conda/envs/notebook/lib/python3.7/site-packages (from pexpect>4.3->ipython>=5.4.1->jupyterthemes) (0.7.0)\n",
      "Requirement already satisfied: wcwidth in /srv/conda/envs/notebook/lib/python3.7/site-packages (from prompt-toolkit!=3.0.0,!=3.0.1,<3.1.0,>=2.0.0->ipython>=5.4.1->jupyterthemes) (0.2.6)\n",
      "Requirement already satisfied: six>=1.5 in /srv/conda/envs/notebook/lib/python3.7/site-packages (from python-dateutil>=2.7->matplotlib>=1.4.3->jupyterthemes) (1.16.0)\n",
      "Requirement already satisfied: argon2-cffi-bindings in /srv/conda/envs/notebook/lib/python3.7/site-packages (from argon2-cffi->notebook>=5.6.0->jupyterthemes) (21.2.0)\n",
      "Requirement already satisfied: psutil in /srv/conda/envs/notebook/lib/python3.7/site-packages (from ipykernel->notebook>=5.6.0->jupyterthemes) (5.9.3)\n",
      "Requirement already satisfied: debugpy>=1.0 in /srv/conda/envs/notebook/lib/python3.7/site-packages (from ipykernel->notebook>=5.6.0->jupyterthemes) (1.6.3)\n",
      "Requirement already satisfied: zipp>=0.5 in /srv/conda/envs/notebook/lib/python3.7/site-packages (from importlib-metadata>=3.6->nbconvert>=5->notebook>=5.6.0->jupyterthemes) (3.12.0)\n",
      "Requirement already satisfied: pkgutil-resolve-name>=1.3.10 in /srv/conda/envs/notebook/lib/python3.7/site-packages (from jsonschema>=2.6->nbformat->notebook>=5.6.0->jupyterthemes) (1.3.10)\n",
      "Requirement already satisfied: attrs>=17.4.0 in /srv/conda/envs/notebook/lib/python3.7/site-packages (from jsonschema>=2.6->nbformat->notebook>=5.6.0->jupyterthemes) (22.2.0)\n",
      "Requirement already satisfied: importlib-resources>=1.4.0 in /srv/conda/envs/notebook/lib/python3.7/site-packages (from jsonschema>=2.6->nbformat->notebook>=5.6.0->jupyterthemes) (5.10.2)\n",
      "Requirement already satisfied: pyrsistent!=0.17.0,!=0.17.1,!=0.17.2,>=0.14.0 in /srv/conda/envs/notebook/lib/python3.7/site-packages (from jsonschema>=2.6->nbformat->notebook>=5.6.0->jupyterthemes) (0.18.1)\n",
      "Requirement already satisfied: cffi>=1.0.1 in /srv/conda/envs/notebook/lib/python3.7/site-packages (from argon2-cffi-bindings->argon2-cffi->notebook>=5.6.0->jupyterthemes) (1.15.1)\n",
      "Requirement already satisfied: soupsieve>1.2 in /srv/conda/envs/notebook/lib/python3.7/site-packages (from beautifulsoup4->nbconvert>=5->notebook>=5.6.0->jupyterthemes) (2.3.2.post1)\n",
      "Requirement already satisfied: webencodings in /srv/conda/envs/notebook/lib/python3.7/site-packages (from bleach->nbconvert>=5->notebook>=5.6.0->jupyterthemes) (0.5.1)\n",
      "Requirement already satisfied: pycparser in /srv/conda/envs/notebook/lib/python3.7/site-packages (from cffi>=1.0.1->argon2-cffi-bindings->argon2-cffi->notebook>=5.6.0->jupyterthemes) (2.21)\n"
     ]
    }
   ],
   "source": [
    "# lol wanted to install a different theme to make it look nice- I can mess with this later\n",
    "!pip install jupyterthemes\n",
    "!pip install --upgrade jupyterthemes"
   ]
  },
  {
   "cell_type": "code",
   "execution_count": 1,
   "id": "7bfeb7e1-6d04-44a2-be4f-ed5e99cd0b7c",
   "metadata": {},
   "outputs": [],
   "source": [
    "pi = 3.14159265  #this is a float\n",
    "fav_food = \"pizza\" #this is a string\n",
    "i_like_pizza = True   #can you tell me what the variable type is?"
   ]
  },
  {
   "cell_type": "markdown",
   "id": "314fbd25-720a-47ca-bd36-c5fee0163712",
   "metadata": {},
   "source": [
    "###### This lesson was inspired by Niema Moshiri's Stepik course \"Intro. to Comp. Sci. & OOP: Python\" "
   ]
  }
 ],
 "metadata": {
  "kernelspec": {
   "display_name": "Python 3 (ipykernel)",
   "language": "python",
   "name": "python3"
  },
  "language_info": {
   "codemirror_mode": {
    "name": "ipython",
    "version": 3
   },
   "file_extension": ".py",
   "mimetype": "text/x-python",
   "name": "python",
   "nbconvert_exporter": "python",
   "pygments_lexer": "ipython3",
   "version": "3.9.1"
  }
 },
 "nbformat": 4,
 "nbformat_minor": 5
}
